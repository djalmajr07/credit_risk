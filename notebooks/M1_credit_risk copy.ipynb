{
 "cells": [
  {
   "cell_type": "markdown",
   "metadata": {},
   "source": []
  },
  {
   "cell_type": "markdown",
   "metadata": {},
   "source": [
    "# 0.0 IMPORTS\n"
   ]
  },
  {
   "cell_type": "code",
   "execution_count": null,
   "metadata": {},
   "outputs": [],
   "source": []
  },
  {
   "cell_type": "markdown",
   "metadata": {},
   "source": [
    "#  01 - Data Description:\n",
    "\n",
    "- The objective is to use statistical metrics to identify outliers in the scope of the business."
   ]
  },
  {
   "cell_type": "markdown",
   "metadata": {},
   "source": [
    "#  02 - Feature Engineering:\n",
    "- Derive new attributes based on the original variables to better describe the phenomenon being modeled."
   ]
  },
  {
   "cell_type": "markdown",
   "metadata": {},
   "source": [
    "#  03 - Filtragem de Dados:\n",
    "- Filter the rows and select columns that do not contain information for modeling or that do not match the business scope."
   ]
  },
  {
   "cell_type": "markdown",
   "metadata": {},
   "source": [
    "#  04 - Análise Exploratória de Dados:\n",
    "- Explore the data to find insights and better understand the impact of variables on model learning."
   ]
  },
  {
   "cell_type": "markdown",
   "metadata": {},
   "source": [
    "#  05 - Preparação de dados:\n",
    "- Preparing the data so that machine learning models can learn specific behaviors."
   ]
  },
  {
   "cell_type": "markdown",
   "metadata": {},
   "source": [
    "#  06 - Seleção de atributos:\n",
    "- Selection of the most significant attributes to train the model."
   ]
  },
  {
   "cell_type": "markdown",
   "metadata": {},
   "source": [
    "#  07 - Machine Learning Modeling:\n",
    "- Machine learning model training"
   ]
  },
  {
   "cell_type": "markdown",
   "metadata": {},
   "source": [
    "# Passo 08 - Hyperparameter Fine Tunning:\n",
    "- Choose the best values for each of the model parameters selected in the previous step."
   ]
  },
  {
   "cell_type": "markdown",
   "metadata": {},
   "source": [
    "#  09 - Converter o desempenho do modelo em valores de negócios:\n",
    "- Convert model performance into business outcome."
   ]
  },
  {
   "cell_type": "markdown",
   "metadata": {},
   "source": [
    "#  10 - Implantar o modelo na produção:\n",
    "- Publish the model to a cloud environment so that other people or services can use the results to improve the business decision."
   ]
  }
 ],
 "metadata": {
  "language_info": {
   "name": "python"
  },
  "orig_nbformat": 4
 },
 "nbformat": 4,
 "nbformat_minor": 2
}
